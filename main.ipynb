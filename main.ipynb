{
 "cells": [
  {
   "cell_type": "code",
   "execution_count": 0,
   "metadata": {
    "colab": {},
    "colab_type": "code",
    "id": "HJnqQW5SNC2K"
   },
   "outputs": [],
   "source": [
    "import requests\n",
    "import shutil\n",
    "\n",
    "r = requests.get('https://storage.googleapis.com/kaggle-datasets/87153/200743/cell_images.zip?GoogleAccessId=web-data@kaggle-161607.iam.gserviceaccount.com&Expires=1559248896&Signature=DGJFUJHBKOnhaLvduiiEZ00AExMlYNxHtYd3vf4bI99nRN%2FdfVWdyAZqwxHYe2t2u9XtSuHYPGImYo%2F%2BNa37vZgvcQzuvZWGDPwNJyatolB6e8e2xT8zt5fM6ZuDcuO17UKhOUvAwMmf1QdxiYRtf59JXXldfyNK0QhzdpbeVIUJxqiBDV53K0pk2uvdOrJYLCkyX4wVWqckq%2FBqNy7kVXvtWZl%2FBu82FXOhbraS18YNhBLRBb41Jh10iitq6Z3YLrtWyQRKbsZrOsXkHzv2YDe2NznMZmCExQGoIBONdLbYnUEYXcAzox2sgBRS3YVXjrAhRPQi6Bj7vzSXAkn%2FcQ%3D%3D',stream=True)\n",
    "with open('cell_images.zip', 'wb') as f:\n",
    "    shutil.copyfileobj(r.raw, f)"
   ]
  },
  {
   "cell_type": "code",
   "execution_count": 0,
   "metadata": {
    "colab": {
     "base_uri": "https://localhost:8080/",
     "height": 34
    },
    "colab_type": "code",
    "id": "S_ezOIDq4Qd-",
    "outputId": "74da572b-bfab-4e27-cdd1-17a76655fd77"
   },
   "outputs": [
    {
     "name": "stdout",
     "output_type": "stream",
     "text": [
      "338M cell_images.zip\n"
     ]
    }
   ],
   "source": [
    "!ls -sh cell_images.zip"
   ]
  },
  {
   "cell_type": "code",
   "execution_count": 0,
   "metadata": {
    "colab": {},
    "colab_type": "code",
    "id": "c88dkMSeYmp2"
   },
   "outputs": [],
   "source": [
    "!unzip cell_images.zip"
   ]
  },
  {
   "cell_type": "code",
   "execution_count": 0,
   "metadata": {
    "colab": {},
    "colab_type": "code",
    "id": "9KzkDq2Ilh1h"
   },
   "outputs": [],
   "source": [
    "!cd cell_images/ && cd Parasitized && rm *.db"
   ]
  },
  {
   "cell_type": "code",
   "execution_count": 0,
   "metadata": {
    "colab": {},
    "colab_type": "code",
    "id": "pmHOSGsSY9OB"
   },
   "outputs": [],
   "source": [
    "!cd cell_images/ && cd Uninfected && rm *.db"
   ]
  },
  {
   "cell_type": "code",
   "execution_count": 0,
   "metadata": {
    "colab": {},
    "colab_type": "code",
    "id": "r5wOhZIIbbBP"
   },
   "outputs": [],
   "source": [
    "import cv2\n",
    "import os\n",
    "import matplotlib.pyplot as plt\n",
    "from tqdm import tqdm\n",
    "import random\n",
    "import numpy as np\n",
    "from sklearn.preprocessing import MinMaxScaler\n"
   ]
  },
  {
   "cell_type": "code",
   "execution_count": 7,
   "metadata": {
    "colab": {
     "base_uri": "https://localhost:8080/",
     "height": 50
    },
    "colab_type": "code",
    "id": "k-TcKlz1bZLm",
    "outputId": "fa91c756-0bd3-47a4-ad0a-ec1c79c26b3e"
   },
   "outputs": [
    {
     "name": "stderr",
     "output_type": "stream",
     "text": [
      "100%|██████████| 13779/13779 [00:07<00:00, 1852.03it/s]\n",
      "100%|██████████| 13779/13779 [00:06<00:00, 1991.63it/s]\n"
     ]
    }
   ],
   "source": [
    "datadir = 'cell_images'\n",
    "catagories = ['Parasitized','Uninfected']\n",
    "img_size = 75\n",
    "training_data = []\n",
    "\n",
    "for catagory in catagories:\n",
    "    path = os.path.join(datadir,catagory)\n",
    "    classnum = catagories.index(catagory) \n",
    "    for img in tqdm(os.listdir(path)):\n",
    "        image_array = cv2.imread(os.path.join(path,img),cv2.IMREAD_GRAYSCALE)\n",
    "        new_array = cv2.resize(image_array,(img_size,img_size))\n",
    "        training_data.append([new_array,classnum])"
   ]
  },
  {
   "cell_type": "code",
   "execution_count": 0,
   "metadata": {
    "colab": {},
    "colab_type": "code",
    "id": "6toCLs6AYIdq"
   },
   "outputs": [],
   "source": [
    "plt.imshow(new_array)"
   ]
  },
  {
   "cell_type": "code",
   "execution_count": 0,
   "metadata": {
    "colab": {},
    "colab_type": "code",
    "id": "E3MaEWqRdPES"
   },
   "outputs": [],
   "source": [
    "random.shuffle(training_data)"
   ]
  },
  {
   "cell_type": "code",
   "execution_count": 0,
   "metadata": {
    "colab": {},
    "colab_type": "code",
    "id": "WsRPmt84gInF"
   },
   "outputs": [],
   "source": [
    "X = []\n",
    "y = []\n",
    "\n",
    "for image,lable in training_data:\n",
    "    X.append(image)\n",
    "    y.append(lable)\n",
    "\n",
    "X = np.array(X)\n",
    "y = np.array(y)\n",
    "\n",
    "X = X.reshape(-1,75,75,1)\n",
    "\n",
    "X = X/255.0"
   ]
  },
  {
   "cell_type": "code",
   "execution_count": 0,
   "metadata": {
    "colab": {},
    "colab_type": "code",
    "id": "_TSZu4bDhFls"
   },
   "outputs": [],
   "source": [
    "from tensorflow.keras.models import Sequential\n",
    "from tensorflow.keras.layers import Dense, Dropout, Activation, Flatten\n",
    "from tensorflow.keras.layers import Conv2D, MaxPooling2D"
   ]
  },
  {
   "cell_type": "code",
   "execution_count": 21,
   "metadata": {
    "colab": {
     "base_uri": "https://localhost:8080/",
     "height": 554
    },
    "colab_type": "code",
    "id": "4JMOdS6t1viU",
    "outputId": "7b9bf449-1d61-4a79-bd5d-f9200f1cd14d"
   },
   "outputs": [
    {
     "name": "stdout",
     "output_type": "stream",
     "text": [
      "Train on 19290 samples, validate on 8268 samples\n",
      "Epoch 1/15\n",
      "19290/19290 [==============================] - 10s 541us/sample - loss: 0.5947 - acc: 0.6357 - val_loss: 0.2298 - val_acc: 0.9140\n",
      "Epoch 2/15\n",
      "19290/19290 [==============================] - 10s 511us/sample - loss: 0.1968 - acc: 0.9358 - val_loss: 0.1721 - val_acc: 0.9416\n",
      "Epoch 3/15\n",
      "19290/19290 [==============================] - 10s 513us/sample - loss: 0.1644 - acc: 0.9476 - val_loss: 0.1951 - val_acc: 0.9341\n",
      "Epoch 4/15\n",
      "19290/19290 [==============================] - 10s 507us/sample - loss: 0.1500 - acc: 0.9508 - val_loss: 0.1587 - val_acc: 0.9487\n",
      "Epoch 5/15\n",
      "19290/19290 [==============================] - 10s 505us/sample - loss: 0.1451 - acc: 0.9528 - val_loss: 0.1564 - val_acc: 0.9478\n",
      "Epoch 6/15\n",
      "19290/19290 [==============================] - 10s 512us/sample - loss: 0.1406 - acc: 0.9534 - val_loss: 0.1493 - val_acc: 0.9499\n",
      "Epoch 7/15\n",
      "19290/19290 [==============================] - 10s 510us/sample - loss: 0.1367 - acc: 0.9547 - val_loss: 0.1533 - val_acc: 0.9468\n",
      "Epoch 8/15\n",
      "19290/19290 [==============================] - 10s 517us/sample - loss: 0.1321 - acc: 0.9571 - val_loss: 0.1512 - val_acc: 0.9510\n",
      "Epoch 9/15\n",
      "19290/19290 [==============================] - 10s 511us/sample - loss: 0.1271 - acc: 0.9592 - val_loss: 0.1449 - val_acc: 0.9519\n",
      "Epoch 10/15\n",
      "19290/19290 [==============================] - 10s 504us/sample - loss: 0.1217 - acc: 0.9604 - val_loss: 0.1527 - val_acc: 0.9488\n",
      "Epoch 11/15\n",
      "19290/19290 [==============================] - 10s 505us/sample - loss: 0.1164 - acc: 0.9612 - val_loss: 0.1555 - val_acc: 0.9515\n",
      "Epoch 12/15\n",
      "19290/19290 [==============================] - 10s 506us/sample - loss: 0.1142 - acc: 0.9623 - val_loss: 0.1574 - val_acc: 0.9508\n",
      "Epoch 13/15\n",
      "19290/19290 [==============================] - 10s 506us/sample - loss: 0.1126 - acc: 0.9623 - val_loss: 0.1706 - val_acc: 0.9508\n",
      "Epoch 14/15\n",
      "19290/19290 [==============================] - 10s 503us/sample - loss: 0.1083 - acc: 0.9654 - val_loss: 0.1544 - val_acc: 0.9510\n",
      "Epoch 15/15\n",
      "19290/19290 [==============================] - 10s 510us/sample - loss: 0.1020 - acc: 0.9658 - val_loss: 0.1624 - val_acc: 0.9533\n"
     ]
    },
    {
     "data": {
      "text/plain": [
       "<tensorflow.python.keras.callbacks.History at 0x7fa6ae15bba8>"
      ]
     },
     "execution_count": 21,
     "metadata": {
      "tags": []
     },
     "output_type": "execute_result"
    }
   ],
   "source": [
    "model = Sequential()\n",
    "\n",
    "model.add(Conv2D(32,(2,2),input_shape=X.shape[1:],activation='relu'))\n",
    "model.add(MaxPooling2D(pool_size=(2,2)))\n",
    "\n",
    "model.add(Conv2D(32,(2,2),activation='relu'))\n",
    "model.add(MaxPooling2D(pool_size=(2,2)))\n",
    "\n",
    "model.add(Conv2D(32,(2,2),activation='relu'))\n",
    "model.add(MaxPooling2D(pool_size=(2,2)))\n",
    "\n",
    "model.add(Flatten())\n",
    "\n",
    "model.add(Dense(64, activation='relu'))\n",
    "\n",
    "model.add(Dropout(0.5))\n",
    "\n",
    "model.add(Dense(128, activation='relu'))\n",
    "\n",
    "model.add(Dropout(0.5))\n",
    "\n",
    "model.add(Dense(1,activation='sigmoid'))\n",
    "\n",
    "model.compile(loss='binary_crossentropy',\n",
    "             optimizer='adam',\n",
    "             metrics=['accuracy'])\n",
    "\n",
    "model.fit(X,y,batch_size=12,epochs=15,validation_split=0.30)"
   ]
  },
  {
   "cell_type": "code",
   "execution_count": 0,
   "metadata": {
    "colab": {},
    "colab_type": "code",
    "id": "2aP8MjBCTEGG"
   },
   "outputs": [],
   "source": [
    "model.save('3-Con2D-X32-Dense-X64-Dense-X128.h5')"
   ]
  }
 ],
 "metadata": {
  "accelerator": "GPU",
  "colab": {
   "collapsed_sections": [],
   "name": "Untitled2.ipynb",
   "provenance": [],
   "version": "0.3.2"
  },
  "kernelspec": {
   "display_name": "Python 3",
   "language": "python",
   "name": "python3"
  },
  "language_info": {
   "codemirror_mode": {
    "name": "ipython",
    "version": 3
   },
   "file_extension": ".py",
   "mimetype": "text/x-python",
   "name": "python",
   "nbconvert_exporter": "python",
   "pygments_lexer": "ipython3",
   "version": "3.7.1"
  }
 },
 "nbformat": 4,
 "nbformat_minor": 1
}
